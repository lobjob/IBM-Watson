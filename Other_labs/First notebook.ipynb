{
    "cells": [
        {
            "cell_type": "markdown",
            "metadata": {},
            "source": "# My first notebook in Watson Studio"
        },
        {
            "cell_type": "markdown",
            "metadata": {},
            "source": "**Dmitriy Kolach**<br>\nData Scientist"
        },
        {
            "cell_type": "markdown",
            "metadata": {},
            "source": "*I am interested in data science because I love being like Indiana Jones in the data jungle and finding treasures there.<br>\nI believe what I can give many benefits for all of us.*"
        },
        {
            "cell_type": "markdown",
            "metadata": {},
            "source": "### In cell 5 I print how many markdown cells and code cells will be in this notebook."
        },
        {
            "cell_type": "code",
            "execution_count": 1,
            "metadata": {},
            "outputs": [
                {
                    "name": "stdout",
                    "output_type": "stream",
                    "text": "Markdown cells: 5\nCode cells: 1\nAll cells: 6\n"
                }
            ],
            "source": "m = 5\nc = 1\nprint('Markdown cells: {}\\nCode cells: {}\\nAll cells: {}'.format(m, c, m + c))"
        },
        {
            "cell_type": "markdown",
            "metadata": {},
            "source": "Here I can do something in markdown syntax:\n- bulleted list;\n- numbered list;\n- table;\n- something else.\n\nWhat I did here:\n1. Header title.\n2. My name.\n3. What I like in Data Science.\n4. What I want to do in this notebook.\n5. Done it.\n6. Examples markdown style.\n\nI can make table here:\n\n|   col_1   |   col_2   |   col_3   |\n|---:|---:|---:|\n| 1 | 2 | 3 |\n\nI can print my Python code here:\n```Python\n\nm = 5\nc = 1\nprint('Markdown cells: {}\\nCode cells: {}\\nAll cells: {}'.format(m, c, m + c))\n```\n\nAnd many more!<br>\nThanks for watching!"
        }
    ],
    "metadata": {
        "kernelspec": {
            "display_name": "Python 3.8",
            "language": "python",
            "name": "python3"
        },
        "language_info": {
            "codemirror_mode": {
                "name": "ipython",
                "version": 3
            },
            "file_extension": ".py",
            "mimetype": "text/x-python",
            "name": "python",
            "nbconvert_exporter": "python",
            "pygments_lexer": "ipython3",
            "version": "3.8.10"
        }
    },
    "nbformat": 4,
    "nbformat_minor": 1
}